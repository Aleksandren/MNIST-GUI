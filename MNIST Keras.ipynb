{
 "cells": [
  {
   "cell_type": "code",
   "execution_count": 1,
   "metadata": {},
   "outputs": [
    {
     "name": "stderr",
     "output_type": "stream",
     "text": [
      "Using TensorFlow backend.\n"
     ]
    }
   ],
   "source": [
    "from __future__ import print_function\n",
    "import numpy as np\n",
    "from keras.datasets import mnist\n",
    "from keras.models import Sequential\n",
    "from keras.layers.core import Dense, Dropout, Activation\n",
    "from keras.optimizers import SGD\n",
    "from keras.utils import np_utils\n",
    "np.random.seed(1671)"
   ]
  },
  {
   "cell_type": "code",
   "execution_count": 2,
   "metadata": {
    "collapsed": true
   },
   "outputs": [],
   "source": [
    "N_EPOCH = 15\n",
    "BATCH_SIZE = 128\n",
    "N_HIDDEN = 512\n",
    "VERBOSE = 1\n",
    "N_CLASSES = 10\n",
    "VAL_DATA = 0.2\n",
    "RESHAPED = 784\n",
    "DROPOUT = 0.3\n",
    "\n",
    "OPTIMIZER = SGD()"
   ]
  },
  {
   "cell_type": "code",
   "execution_count": 3,
   "metadata": {
    "collapsed": true
   },
   "outputs": [],
   "source": [
    "(X_train, y_train), (X_test, y_test) = mnist.load_data()\n",
    "X_train = X_train.reshape(60000, RESHAPED)\n",
    "X_test = X_test.reshape(10000, RESHAPED)\n",
    "X_train = X_train.astype('float32')\n",
    "X_test = X_test.astype('float32')"
   ]
  },
  {
   "cell_type": "code",
   "execution_count": 4,
   "metadata": {
    "collapsed": true
   },
   "outputs": [],
   "source": [
    "#normal\n",
    "X_train /= 255\n",
    "X_test /= 255\n",
    "#binary matrix\n",
    "Y_train = np_utils.to_categorical(y_train, N_CLASSES)\n",
    "Y_test = np_utils.to_categorical(y_test, N_CLASSES)"
   ]
  },
  {
   "cell_type": "code",
   "execution_count": 49,
   "metadata": {},
   "outputs": [
    {
     "name": "stdout",
     "output_type": "stream",
     "text": [
      "_________________________________________________________________\n",
      "Layer (type)                 Output Shape              Param #   \n",
      "=================================================================\n",
      "dense_1 (Dense)              (None, 512)               401920    \n",
      "_________________________________________________________________\n",
      "activation_1 (Activation)    (None, 512)               0         \n",
      "_________________________________________________________________\n",
      "dropout_1 (Dropout)          (None, 512)               0         \n",
      "_________________________________________________________________\n",
      "dense_2 (Dense)              (None, 512)               262656    \n",
      "_________________________________________________________________\n",
      "activation_2 (Activation)    (None, 512)               0         \n",
      "_________________________________________________________________\n",
      "dropout_2 (Dropout)          (None, 512)               0         \n",
      "_________________________________________________________________\n",
      "dense_3 (Dense)              (None, 10)                5130      \n",
      "_________________________________________________________________\n",
      "activation_3 (Activation)    (None, 10)                0         \n",
      "=================================================================\n",
      "Total params: 669,706\n",
      "Trainable params: 669,706\n",
      "Non-trainable params: 0\n",
      "_________________________________________________________________\n",
      "Train on 48000 samples, validate on 12000 samples\n",
      "Epoch 1/15\n",
      "48000/48000 [==============================] - 8s 169us/step - loss: 1.4437 - acc: 0.5979 - val_loss: 0.6661 - val_acc: 0.8562\n",
      "Epoch 2/15\n",
      "48000/48000 [==============================] - 7s 144us/step - loss: 0.6677 - acc: 0.8098 - val_loss: 0.4261 - val_acc: 0.8848\n",
      "Epoch 3/15\n",
      "48000/48000 [==============================] - 7s 145us/step - loss: 0.5160 - acc: 0.8483 - val_loss: 0.3558 - val_acc: 0.9001\n",
      "Epoch 4/15\n",
      "48000/48000 [==============================] - 8s 162us/step - loss: 0.4510 - acc: 0.8687 - val_loss: 0.3209 - val_acc: 0.9079\n",
      "Epoch 5/15\n",
      "48000/48000 [==============================] - 8s 171us/step - loss: 0.4106 - acc: 0.8787 - val_loss: 0.2963 - val_acc: 0.9137\n",
      "Epoch 6/15\n",
      "48000/48000 [==============================] - 8s 172us/step - loss: 0.3780 - acc: 0.8885 - val_loss: 0.2778 - val_acc: 0.9192\n",
      "Epoch 7/15\n",
      "48000/48000 [==============================] - 8s 158us/step - loss: 0.3536 - acc: 0.8973 - val_loss: 0.2640 - val_acc: 0.9218\n",
      "Epoch 8/15\n",
      "48000/48000 [==============================] - 7s 155us/step - loss: 0.3357 - acc: 0.9018 - val_loss: 0.2499 - val_acc: 0.9271\n",
      "Epoch 9/15\n",
      "48000/48000 [==============================] - 8s 167us/step - loss: 0.3179 - acc: 0.9075 - val_loss: 0.2396 - val_acc: 0.9301\n",
      "Epoch 10/15\n",
      "48000/48000 [==============================] - 8s 164us/step - loss: 0.3056 - acc: 0.9104 - val_loss: 0.2301 - val_acc: 0.9322\n",
      "Epoch 11/15\n",
      "48000/48000 [==============================] - 8s 163us/step - loss: 0.2897 - acc: 0.9149 - val_loss: 0.2196 - val_acc: 0.9362\n",
      "Epoch 12/15\n",
      "48000/48000 [==============================] - 8s 167us/step - loss: 0.2797 - acc: 0.9181 - val_loss: 0.2118 - val_acc: 0.9383\n",
      "Epoch 13/15\n",
      "48000/48000 [==============================] - 8s 165us/step - loss: 0.2710 - acc: 0.9205 - val_loss: 0.2052 - val_acc: 0.9407\n",
      "Epoch 14/15\n",
      "48000/48000 [==============================] - 8s 166us/step - loss: 0.2595 - acc: 0.9240 - val_loss: 0.1989 - val_acc: 0.9427\n",
      "Epoch 15/15\n",
      "48000/48000 [==============================] - 8s 168us/step - loss: 0.2490 - acc: 0.9264 - val_loss: 0.1933 - val_acc: 0.9435\n",
      "10000/10000 [==============================] - 1s 102us/step\n",
      "Score 0.193561114698\n",
      "Accuracy 0.943\n"
     ]
    }
   ],
   "source": [
    "model = Sequential()\n",
    "model.add(Dense(N_HIDDEN, input_shape = (RESHAPED,)))\n",
    "model.add(Activation('relu'))\n",
    "model.add(Dropout(DROPOUT))\n",
    "model.add(Dense(N_HIDDEN))\n",
    "model.add(Activation('relu'))\n",
    "model.add(Dropout(DROPOUT))\n",
    "model.add(Dense(N_CLASSES))\n",
    "model.add(Activation('softmax'))\n",
    "model.summary()\n",
    "\n",
    "model.compile(loss='categorical_crossentropy', optimizer=OPTIMIZER, metrics=['accuracy'])\n",
    "\n",
    "history= model.fit(X_train, Y_train, batch_size=BATCH_SIZE, epochs=N_EPOCH, verbose=VERBOSE, validation_split=VAL_DATA)\n",
    "score = model.evaluate(X_test, Y_test, verbose=VERBOSE)\n",
    "print(\"Score\", score[0])\n",
    "print(\"Accuracy\", score[1])"
   ]
  },
  {
   "cell_type": "code",
   "execution_count": 44,
   "metadata": {},
   "outputs": [
    {
     "ename": "NameError",
     "evalue": "name 'model' is not defined",
     "output_type": "error",
     "traceback": [
      "\u001b[1;31m---------------------------------------------------------------------------\u001b[0m",
      "\u001b[1;31mNameError\u001b[0m                                 Traceback (most recent call last)",
      "\u001b[1;32m<ipython-input-44-05212b24e6eb>\u001b[0m in \u001b[0;36m<module>\u001b[1;34m()\u001b[0m\n\u001b[0;32m      1\u001b[0m \u001b[1;32mimport\u001b[0m \u001b[0msys\u001b[0m\u001b[1;33m\u001b[0m\u001b[0m\n\u001b[0;32m      2\u001b[0m \u001b[0msys\u001b[0m\u001b[1;33m.\u001b[0m\u001b[0mstdout\u001b[0m\u001b[1;33m.\u001b[0m\u001b[0mflush\u001b[0m\u001b[1;33m(\u001b[0m\u001b[1;33m)\u001b[0m\u001b[1;33m\u001b[0m\u001b[0m\n\u001b[1;32m----> 3\u001b[1;33m \u001b[0mmodel\u001b[0m\u001b[1;33m.\u001b[0m\u001b[0msave\u001b[0m\u001b[1;33m(\u001b[0m\u001b[1;34m\"mymodel\"\u001b[0m\u001b[1;33m)\u001b[0m\u001b[1;33m\u001b[0m\u001b[0m\n\u001b[0m\u001b[0;32m      4\u001b[0m \u001b[0mhistory\u001b[0m\u001b[1;33m\u001b[0m\u001b[0m\n",
      "\u001b[1;31mNameError\u001b[0m: name 'model' is not defined"
     ]
    }
   ],
   "source": [
    "import sys\n",
    "sys.stdout.flush()\n",
    "model.save(\"mymodel\")"
   ]
  },
  {
   "cell_type": "code",
   "execution_count": 7,
   "metadata": {
    "collapsed": true
   },
   "outputs": [],
   "source": [
    "from keras.models import load_model\n",
    "mymodel = load_model('mymodel')"
   ]
  }
 ],
 "metadata": {
  "kernelspec": {
   "display_name": "Python 2",
   "language": "python",
   "name": "python2"
  },
  "language_info": {
   "codemirror_mode": {
    "name": "ipython",
    "version": 2
   },
   "file_extension": ".py",
   "mimetype": "text/x-python",
   "name": "python",
   "nbconvert_exporter": "python",
   "pygments_lexer": "ipython2",
   "version": "2.7.14"
  }
 },
 "nbformat": 4,
 "nbformat_minor": 2
}
